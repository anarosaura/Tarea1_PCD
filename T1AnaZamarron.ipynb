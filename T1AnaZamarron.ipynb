{
 "cells": [
  {
   "cell_type": "markdown",
   "id": "55a402ab",
   "metadata": {},
   "source": [
    "# What are MLOps?\n",
    "**Nombre:** Ana Rosaura Zamarrón Álvarez\n",
    "\n",
    "**Fecha:** 22 agosto 2022"
   ]
  },
  {
   "cell_type": "markdown",
   "id": "8c80143a",
   "metadata": {},
   "source": [
    "El objetivo de MLOps es tratar de mejorar el uso de modelos de Machine Lerning al combinar los procesos de diseño, desarrollo, evaluación, y liberación en un solo proceso. MLOps es una forma de comunicación entre los científicos de datos y el equipo de producción. Éste permite que los involucrados en el proyecto sepan qué cambios se hicieron y cuándo, especialmente sobre los exprimentos de Machine Learining que se realizan.\n",
    "\n",
    "MLOps ayuda a combinar las habilidades de los científicos de datos y el equipo de operaciones para poder hacer transformaciones en la empresa. Muchas veces utilizan a los científicos de datos únicamente para conocer los datos de la empresa, pero no los aprovechan realmente para hacerla crecer. Uniendo estos dos equipos, se puden lograr resultados óptimos, y se pueden mejorar las prácticas de la empresa. Es necesario que se monitoreen los datos para asegurar que los programas regresen información de buena calidad. \n",
    "\n",
    "MLOps tiene varios beneficios, en primer lugar, las plataformas de Machine Learining con MLOps ayudan a evitar los cuellos de botella al mantener todos los trabajos en versiones, documentados, y compartidos. Esto ayuda a que el equipo vea y entienda el progreso del proyecto fácilmente. En segundo lugar, ayuda a evitar la fatiga en los miembros del equipo, ya que guía al equipo a dividir el trabajo efectivamente, y a automatizar el trabajo manual. Al hacer un pipeline, en lugar de un modelo, el equipo puede dividir el trabajo y desarrollar partes del pipeline separadamente, esto hace posible que el pipeline se pueda correr cualquier cantidad de veces. Si el producto final fuera un modelo en lugar de un pipeline, cada nueva versión tendría que ser un nuevo proyecto. En tercer lugar, MLOps permite tener control de las versiones que se realizan en el proyecto.\n",
    "\n",
    "Hay varias herramientas para MLOps:\n",
    "1. **Git** + **DVC** son todo lo que se necesita para controlar las versiones del código y los datos.\n",
    "2. **MLFlow** se usa para experimentar con los modelos de Machine Learning.\n",
    "3. **Docker** te permite crear microservicios, y un modelo de ML es un microservicio. Docker permite que el microservicio se ejecuta exactamente igual en todos los entornos.\n",
    "4. **Kibana** es muy bueno para realizar visualizaciones."
   ]
  },
  {
   "cell_type": "code",
   "execution_count": null,
   "id": "6ed7be82",
   "metadata": {},
   "outputs": [],
   "source": []
  }
 ],
 "metadata": {
  "kernelspec": {
   "display_name": "Python 3 (ipykernel)",
   "language": "python",
   "name": "python3"
  },
  "language_info": {
   "codemirror_mode": {
    "name": "ipython",
    "version": 3
   },
   "file_extension": ".py",
   "mimetype": "text/x-python",
   "name": "python",
   "nbconvert_exporter": "python",
   "pygments_lexer": "ipython3",
   "version": "3.9.12"
  }
 },
 "nbformat": 4,
 "nbformat_minor": 5
}
